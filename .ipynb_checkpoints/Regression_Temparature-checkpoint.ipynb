{
 "cells": [
  {
   "cell_type": "code",
   "execution_count": 20,
   "metadata": {
    "collapsed": true
   },
   "outputs": [],
   "source": [
    "import pandas as pd"
   ]
  },
  {
   "cell_type": "code",
   "execution_count": 22,
   "metadata": {},
   "outputs": [],
   "source": [
    "df = pd.read_csv(\"data.csv\")\n",
    "dfc = pd.read_csv(\"comparetemp.csv\")\n",
    "dftr = pd.read_csv(\"temprang.csv\")"
   ]
  },
  {
   "cell_type": "code",
   "execution_count": 23,
   "metadata": {},
   "outputs": [
    {
     "data": {
      "text/html": [
       "<div>\n",
       "<table border=\"1\" class=\"dataframe\">\n",
       "  <thead>\n",
       "    <tr style=\"text-align: right;\">\n",
       "      <th></th>\n",
       "      <th>Year</th>\n",
       "      <th>Jan</th>\n",
       "      <th>Feb</th>\n",
       "      <th>Mar</th>\n",
       "      <th>Apr</th>\n",
       "      <th>May</th>\n",
       "      <th>Jun</th>\n",
       "      <th>Jul</th>\n",
       "      <th>Aug</th>\n",
       "      <th>Sep</th>\n",
       "      <th>Oct</th>\n",
       "      <th>Nov</th>\n",
       "      <th>Dec</th>\n",
       "    </tr>\n",
       "  </thead>\n",
       "  <tbody>\n",
       "    <tr>\n",
       "      <th>count</th>\n",
       "      <td>102.000000</td>\n",
       "      <td>102.000000</td>\n",
       "      <td>102.000000</td>\n",
       "      <td>102.000000</td>\n",
       "      <td>102.000000</td>\n",
       "      <td>102.000000</td>\n",
       "      <td>102.000000</td>\n",
       "      <td>102.000000</td>\n",
       "      <td>102.000000</td>\n",
       "      <td>102.000000</td>\n",
       "      <td>102.000000</td>\n",
       "      <td>102.000000</td>\n",
       "      <td>102.000000</td>\n",
       "    </tr>\n",
       "    <tr>\n",
       "      <th>mean</th>\n",
       "      <td>1951.500000</td>\n",
       "      <td>12.626667</td>\n",
       "      <td>13.364755</td>\n",
       "      <td>14.101392</td>\n",
       "      <td>13.571402</td>\n",
       "      <td>12.857971</td>\n",
       "      <td>10.600696</td>\n",
       "      <td>8.199412</td>\n",
       "      <td>7.597304</td>\n",
       "      <td>8.369167</td>\n",
       "      <td>9.913745</td>\n",
       "      <td>11.280863</td>\n",
       "      <td>12.451059</td>\n",
       "    </tr>\n",
       "    <tr>\n",
       "      <th>std</th>\n",
       "      <td>29.588849</td>\n",
       "      <td>0.113927</td>\n",
       "      <td>0.060281</td>\n",
       "      <td>0.148775</td>\n",
       "      <td>0.057857</td>\n",
       "      <td>0.060461</td>\n",
       "      <td>0.034078</td>\n",
       "      <td>0.143671</td>\n",
       "      <td>0.071552</td>\n",
       "      <td>0.075470</td>\n",
       "      <td>0.090826</td>\n",
       "      <td>0.150646</td>\n",
       "      <td>0.140272</td>\n",
       "    </tr>\n",
       "    <tr>\n",
       "      <th>min</th>\n",
       "      <td>1901.000000</td>\n",
       "      <td>11.946000</td>\n",
       "      <td>13.046000</td>\n",
       "      <td>13.637000</td>\n",
       "      <td>13.227000</td>\n",
       "      <td>12.596000</td>\n",
       "      <td>10.442000</td>\n",
       "      <td>7.898000</td>\n",
       "      <td>7.285000</td>\n",
       "      <td>8.009000</td>\n",
       "      <td>9.622000</td>\n",
       "      <td>10.724000</td>\n",
       "      <td>11.487000</td>\n",
       "    </tr>\n",
       "    <tr>\n",
       "      <th>25%</th>\n",
       "      <td>1926.250000</td>\n",
       "      <td>12.621000</td>\n",
       "      <td>13.363000</td>\n",
       "      <td>14.109000</td>\n",
       "      <td>13.576000</td>\n",
       "      <td>12.858000</td>\n",
       "      <td>10.602000</td>\n",
       "      <td>8.198000</td>\n",
       "      <td>7.605000</td>\n",
       "      <td>8.374000</td>\n",
       "      <td>9.922000</td>\n",
       "      <td>11.269000</td>\n",
       "      <td>12.450000</td>\n",
       "    </tr>\n",
       "    <tr>\n",
       "      <th>50%</th>\n",
       "      <td>1951.500000</td>\n",
       "      <td>12.621000</td>\n",
       "      <td>13.363000</td>\n",
       "      <td>14.109000</td>\n",
       "      <td>13.576000</td>\n",
       "      <td>12.858000</td>\n",
       "      <td>10.602000</td>\n",
       "      <td>8.198000</td>\n",
       "      <td>7.605000</td>\n",
       "      <td>8.374000</td>\n",
       "      <td>9.922000</td>\n",
       "      <td>11.269000</td>\n",
       "      <td>12.450000</td>\n",
       "    </tr>\n",
       "    <tr>\n",
       "      <th>75%</th>\n",
       "      <td>1976.750000</td>\n",
       "      <td>12.621000</td>\n",
       "      <td>13.363000</td>\n",
       "      <td>14.109000</td>\n",
       "      <td>13.576000</td>\n",
       "      <td>12.858000</td>\n",
       "      <td>10.602000</td>\n",
       "      <td>8.198000</td>\n",
       "      <td>7.605000</td>\n",
       "      <td>8.374000</td>\n",
       "      <td>9.922000</td>\n",
       "      <td>11.269000</td>\n",
       "      <td>12.450000</td>\n",
       "    </tr>\n",
       "    <tr>\n",
       "      <th>max</th>\n",
       "      <td>2002.000000</td>\n",
       "      <td>13.276000</td>\n",
       "      <td>13.770000</td>\n",
       "      <td>14.932000</td>\n",
       "      <td>13.915000</td>\n",
       "      <td>13.057000</td>\n",
       "      <td>10.742000</td>\n",
       "      <td>9.096000</td>\n",
       "      <td>7.958000</td>\n",
       "      <td>8.897000</td>\n",
       "      <td>10.601000</td>\n",
       "      <td>12.333000</td>\n",
       "      <td>13.052000</td>\n",
       "    </tr>\n",
       "  </tbody>\n",
       "</table>\n",
       "</div>"
      ],
      "text/plain": [
       "              Year         Jan         Feb         Mar         Apr  \\\n",
       "count   102.000000  102.000000  102.000000  102.000000  102.000000   \n",
       "mean   1951.500000   12.626667   13.364755   14.101392   13.571402   \n",
       "std      29.588849    0.113927    0.060281    0.148775    0.057857   \n",
       "min    1901.000000   11.946000   13.046000   13.637000   13.227000   \n",
       "25%    1926.250000   12.621000   13.363000   14.109000   13.576000   \n",
       "50%    1951.500000   12.621000   13.363000   14.109000   13.576000   \n",
       "75%    1976.750000   12.621000   13.363000   14.109000   13.576000   \n",
       "max    2002.000000   13.276000   13.770000   14.932000   13.915000   \n",
       "\n",
       "              May         Jun         Jul         Aug         Sep         Oct  \\\n",
       "count  102.000000  102.000000  102.000000  102.000000  102.000000  102.000000   \n",
       "mean    12.857971   10.600696    8.199412    7.597304    8.369167    9.913745   \n",
       "std      0.060461    0.034078    0.143671    0.071552    0.075470    0.090826   \n",
       "min     12.596000   10.442000    7.898000    7.285000    8.009000    9.622000   \n",
       "25%     12.858000   10.602000    8.198000    7.605000    8.374000    9.922000   \n",
       "50%     12.858000   10.602000    8.198000    7.605000    8.374000    9.922000   \n",
       "75%     12.858000   10.602000    8.198000    7.605000    8.374000    9.922000   \n",
       "max     13.057000   10.742000    9.096000    7.958000    8.897000   10.601000   \n",
       "\n",
       "              Nov         Dec  \n",
       "count  102.000000  102.000000  \n",
       "mean    11.280863   12.451059  \n",
       "std      0.150646    0.140272  \n",
       "min     10.724000   11.487000  \n",
       "25%     11.269000   12.450000  \n",
       "50%     11.269000   12.450000  \n",
       "75%     11.269000   12.450000  \n",
       "max     12.333000   13.052000  "
      ]
     },
     "execution_count": 23,
     "metadata": {},
     "output_type": "execute_result"
    }
   ],
   "source": [
    "dftr.describe()"
   ]
  },
  {
   "cell_type": "code",
   "execution_count": 11,
   "metadata": {},
   "outputs": [
    {
     "data": {
      "text/plain": [
       "Year      int64\n",
       "Jan     float64\n",
       "Feb     float64\n",
       "Mar     float64\n",
       "Apr     float64\n",
       "May     float64\n",
       "Jun     float64\n",
       "Jul     float64\n",
       "Aug     float64\n",
       "Sep     float64\n",
       "Oct     float64\n",
       "Nov     float64\n",
       "Dec     float64\n",
       "dtype: object"
      ]
     },
     "execution_count": 11,
     "metadata": {},
     "output_type": "execute_result"
    }
   ],
   "source": [
    "df.dtypes"
   ]
  },
  {
   "cell_type": "code",
   "execution_count": 12,
   "metadata": {},
   "outputs": [
    {
     "data": {
      "text/html": [
       "<div>\n",
       "<table border=\"1\" class=\"dataframe\">\n",
       "  <thead>\n",
       "    <tr style=\"text-align: right;\">\n",
       "      <th></th>\n",
       "      <th>Year</th>\n",
       "      <th>Jan</th>\n",
       "      <th>Feb</th>\n",
       "      <th>Mar</th>\n",
       "      <th>Apr</th>\n",
       "      <th>May</th>\n",
       "      <th>Jun</th>\n",
       "      <th>Jul</th>\n",
       "      <th>Aug</th>\n",
       "      <th>Sep</th>\n",
       "      <th>Oct</th>\n",
       "      <th>Nov</th>\n",
       "      <th>Dec</th>\n",
       "    </tr>\n",
       "  </thead>\n",
       "  <tbody>\n",
       "    <tr>\n",
       "      <th>Year</th>\n",
       "      <td>1.000000</td>\n",
       "      <td>0.262008</td>\n",
       "      <td>0.560594</td>\n",
       "      <td>0.568160</td>\n",
       "      <td>0.427131</td>\n",
       "      <td>0.272463</td>\n",
       "      <td>0.131531</td>\n",
       "      <td>0.369898</td>\n",
       "      <td>0.311082</td>\n",
       "      <td>0.521795</td>\n",
       "      <td>0.402764</td>\n",
       "      <td>0.444744</td>\n",
       "      <td>0.397697</td>\n",
       "    </tr>\n",
       "    <tr>\n",
       "      <th>Jan</th>\n",
       "      <td>0.262008</td>\n",
       "      <td>1.000000</td>\n",
       "      <td>0.469459</td>\n",
       "      <td>0.428346</td>\n",
       "      <td>0.338052</td>\n",
       "      <td>0.328517</td>\n",
       "      <td>-0.057352</td>\n",
       "      <td>0.202098</td>\n",
       "      <td>0.100687</td>\n",
       "      <td>0.244737</td>\n",
       "      <td>0.093067</td>\n",
       "      <td>0.082004</td>\n",
       "      <td>0.141856</td>\n",
       "    </tr>\n",
       "    <tr>\n",
       "      <th>Feb</th>\n",
       "      <td>0.560594</td>\n",
       "      <td>0.469459</td>\n",
       "      <td>1.000000</td>\n",
       "      <td>0.620403</td>\n",
       "      <td>0.508059</td>\n",
       "      <td>0.303459</td>\n",
       "      <td>0.109507</td>\n",
       "      <td>0.282019</td>\n",
       "      <td>0.120689</td>\n",
       "      <td>0.321044</td>\n",
       "      <td>0.196087</td>\n",
       "      <td>0.224516</td>\n",
       "      <td>0.222828</td>\n",
       "    </tr>\n",
       "    <tr>\n",
       "      <th>Mar</th>\n",
       "      <td>0.568160</td>\n",
       "      <td>0.428346</td>\n",
       "      <td>0.620403</td>\n",
       "      <td>1.000000</td>\n",
       "      <td>0.593818</td>\n",
       "      <td>0.374894</td>\n",
       "      <td>0.140170</td>\n",
       "      <td>0.370417</td>\n",
       "      <td>0.218851</td>\n",
       "      <td>0.338255</td>\n",
       "      <td>0.208123</td>\n",
       "      <td>0.193348</td>\n",
       "      <td>0.190259</td>\n",
       "    </tr>\n",
       "    <tr>\n",
       "      <th>Apr</th>\n",
       "      <td>0.427131</td>\n",
       "      <td>0.338052</td>\n",
       "      <td>0.508059</td>\n",
       "      <td>0.593818</td>\n",
       "      <td>1.000000</td>\n",
       "      <td>0.310771</td>\n",
       "      <td>0.092019</td>\n",
       "      <td>0.303694</td>\n",
       "      <td>0.228286</td>\n",
       "      <td>0.267443</td>\n",
       "      <td>0.102548</td>\n",
       "      <td>0.012647</td>\n",
       "      <td>0.036043</td>\n",
       "    </tr>\n",
       "    <tr>\n",
       "      <th>May</th>\n",
       "      <td>0.272463</td>\n",
       "      <td>0.328517</td>\n",
       "      <td>0.303459</td>\n",
       "      <td>0.374894</td>\n",
       "      <td>0.310771</td>\n",
       "      <td>1.000000</td>\n",
       "      <td>0.285279</td>\n",
       "      <td>0.147095</td>\n",
       "      <td>0.141154</td>\n",
       "      <td>0.068633</td>\n",
       "      <td>0.077928</td>\n",
       "      <td>-0.155618</td>\n",
       "      <td>0.066466</td>\n",
       "    </tr>\n",
       "    <tr>\n",
       "      <th>Jun</th>\n",
       "      <td>0.131531</td>\n",
       "      <td>-0.057352</td>\n",
       "      <td>0.109507</td>\n",
       "      <td>0.140170</td>\n",
       "      <td>0.092019</td>\n",
       "      <td>0.285279</td>\n",
       "      <td>1.000000</td>\n",
       "      <td>0.264500</td>\n",
       "      <td>0.330778</td>\n",
       "      <td>0.103434</td>\n",
       "      <td>0.102273</td>\n",
       "      <td>0.070023</td>\n",
       "      <td>0.122240</td>\n",
       "    </tr>\n",
       "    <tr>\n",
       "      <th>Jul</th>\n",
       "      <td>0.369898</td>\n",
       "      <td>0.202098</td>\n",
       "      <td>0.282019</td>\n",
       "      <td>0.370417</td>\n",
       "      <td>0.303694</td>\n",
       "      <td>0.147095</td>\n",
       "      <td>0.264500</td>\n",
       "      <td>1.000000</td>\n",
       "      <td>0.453219</td>\n",
       "      <td>0.514555</td>\n",
       "      <td>0.393051</td>\n",
       "      <td>0.301077</td>\n",
       "      <td>0.187450</td>\n",
       "    </tr>\n",
       "    <tr>\n",
       "      <th>Aug</th>\n",
       "      <td>0.311082</td>\n",
       "      <td>0.100687</td>\n",
       "      <td>0.120689</td>\n",
       "      <td>0.218851</td>\n",
       "      <td>0.228286</td>\n",
       "      <td>0.141154</td>\n",
       "      <td>0.330778</td>\n",
       "      <td>0.453219</td>\n",
       "      <td>1.000000</td>\n",
       "      <td>0.283071</td>\n",
       "      <td>0.118875</td>\n",
       "      <td>0.083639</td>\n",
       "      <td>0.246133</td>\n",
       "    </tr>\n",
       "    <tr>\n",
       "      <th>Sep</th>\n",
       "      <td>0.521795</td>\n",
       "      <td>0.244737</td>\n",
       "      <td>0.321044</td>\n",
       "      <td>0.338255</td>\n",
       "      <td>0.267443</td>\n",
       "      <td>0.068633</td>\n",
       "      <td>0.103434</td>\n",
       "      <td>0.514555</td>\n",
       "      <td>0.283071</td>\n",
       "      <td>1.000000</td>\n",
       "      <td>0.539946</td>\n",
       "      <td>0.488726</td>\n",
       "      <td>0.501121</td>\n",
       "    </tr>\n",
       "    <tr>\n",
       "      <th>Oct</th>\n",
       "      <td>0.402764</td>\n",
       "      <td>0.093067</td>\n",
       "      <td>0.196087</td>\n",
       "      <td>0.208123</td>\n",
       "      <td>0.102548</td>\n",
       "      <td>0.077928</td>\n",
       "      <td>0.102273</td>\n",
       "      <td>0.393051</td>\n",
       "      <td>0.118875</td>\n",
       "      <td>0.539946</td>\n",
       "      <td>1.000000</td>\n",
       "      <td>0.620154</td>\n",
       "      <td>0.356971</td>\n",
       "    </tr>\n",
       "    <tr>\n",
       "      <th>Nov</th>\n",
       "      <td>0.444744</td>\n",
       "      <td>0.082004</td>\n",
       "      <td>0.224516</td>\n",
       "      <td>0.193348</td>\n",
       "      <td>0.012647</td>\n",
       "      <td>-0.155618</td>\n",
       "      <td>0.070023</td>\n",
       "      <td>0.301077</td>\n",
       "      <td>0.083639</td>\n",
       "      <td>0.488726</td>\n",
       "      <td>0.620154</td>\n",
       "      <td>1.000000</td>\n",
       "      <td>0.508335</td>\n",
       "    </tr>\n",
       "    <tr>\n",
       "      <th>Dec</th>\n",
       "      <td>0.397697</td>\n",
       "      <td>0.141856</td>\n",
       "      <td>0.222828</td>\n",
       "      <td>0.190259</td>\n",
       "      <td>0.036043</td>\n",
       "      <td>0.066466</td>\n",
       "      <td>0.122240</td>\n",
       "      <td>0.187450</td>\n",
       "      <td>0.246133</td>\n",
       "      <td>0.501121</td>\n",
       "      <td>0.356971</td>\n",
       "      <td>0.508335</td>\n",
       "      <td>1.000000</td>\n",
       "    </tr>\n",
       "  </tbody>\n",
       "</table>\n",
       "</div>"
      ],
      "text/plain": [
       "          Year       Jan       Feb       Mar       Apr       May       Jun  \\\n",
       "Year  1.000000  0.262008  0.560594  0.568160  0.427131  0.272463  0.131531   \n",
       "Jan   0.262008  1.000000  0.469459  0.428346  0.338052  0.328517 -0.057352   \n",
       "Feb   0.560594  0.469459  1.000000  0.620403  0.508059  0.303459  0.109507   \n",
       "Mar   0.568160  0.428346  0.620403  1.000000  0.593818  0.374894  0.140170   \n",
       "Apr   0.427131  0.338052  0.508059  0.593818  1.000000  0.310771  0.092019   \n",
       "May   0.272463  0.328517  0.303459  0.374894  0.310771  1.000000  0.285279   \n",
       "Jun   0.131531 -0.057352  0.109507  0.140170  0.092019  0.285279  1.000000   \n",
       "Jul   0.369898  0.202098  0.282019  0.370417  0.303694  0.147095  0.264500   \n",
       "Aug   0.311082  0.100687  0.120689  0.218851  0.228286  0.141154  0.330778   \n",
       "Sep   0.521795  0.244737  0.321044  0.338255  0.267443  0.068633  0.103434   \n",
       "Oct   0.402764  0.093067  0.196087  0.208123  0.102548  0.077928  0.102273   \n",
       "Nov   0.444744  0.082004  0.224516  0.193348  0.012647 -0.155618  0.070023   \n",
       "Dec   0.397697  0.141856  0.222828  0.190259  0.036043  0.066466  0.122240   \n",
       "\n",
       "           Jul       Aug       Sep       Oct       Nov       Dec  \n",
       "Year  0.369898  0.311082  0.521795  0.402764  0.444744  0.397697  \n",
       "Jan   0.202098  0.100687  0.244737  0.093067  0.082004  0.141856  \n",
       "Feb   0.282019  0.120689  0.321044  0.196087  0.224516  0.222828  \n",
       "Mar   0.370417  0.218851  0.338255  0.208123  0.193348  0.190259  \n",
       "Apr   0.303694  0.228286  0.267443  0.102548  0.012647  0.036043  \n",
       "May   0.147095  0.141154  0.068633  0.077928 -0.155618  0.066466  \n",
       "Jun   0.264500  0.330778  0.103434  0.102273  0.070023  0.122240  \n",
       "Jul   1.000000  0.453219  0.514555  0.393051  0.301077  0.187450  \n",
       "Aug   0.453219  1.000000  0.283071  0.118875  0.083639  0.246133  \n",
       "Sep   0.514555  0.283071  1.000000  0.539946  0.488726  0.501121  \n",
       "Oct   0.393051  0.118875  0.539946  1.000000  0.620154  0.356971  \n",
       "Nov   0.301077  0.083639  0.488726  0.620154  1.000000  0.508335  \n",
       "Dec   0.187450  0.246133  0.501121  0.356971  0.508335  1.000000  "
      ]
     },
     "execution_count": 12,
     "metadata": {},
     "output_type": "execute_result"
    }
   ],
   "source": [
    "df.corr()"
   ]
  },
  {
   "cell_type": "code",
   "execution_count": 13,
   "metadata": {
    "collapsed": true
   },
   "outputs": [],
   "source": [
    "from sklearn.linear_model import LinearRegression"
   ]
  },
  {
   "cell_type": "code",
   "execution_count": 14,
   "metadata": {
    "collapsed": true
   },
   "outputs": [],
   "source": [
    "df.isnull().sum()\n",
    "data_r = df.fillna(method='ffill')\n",
    "data_r\n",
    "k = list(data_r.columns)\n",
    "X = data_r[k]"
   ]
  },
  {
   "cell_type": "code",
   "execution_count": 25,
   "metadata": {},
   "outputs": [
    {
     "name": "stderr",
     "output_type": "stream",
     "text": [
      "/Library/Frameworks/Python.framework/Versions/3.6/lib/python3.6/site-packages/ipykernel_launcher.py:7: FutureWarning: reshape is deprecated and will raise in a subsequent release. Please use .values.reshape(...) instead\n",
      "  import sys\n",
      "/Library/Frameworks/Python.framework/Versions/3.6/lib/python3.6/site-packages/ipykernel_launcher.py:8: FutureWarning: reshape is deprecated and will raise in a subsequent release. Please use .values.reshape(...) instead\n",
      "  \n",
      "/Library/Frameworks/Python.framework/Versions/3.6/lib/python3.6/site-packages/ipykernel_launcher.py:9: FutureWarning: reshape is deprecated and will raise in a subsequent release. Please use .values.reshape(...) instead\n",
      "  if __name__ == '__main__':\n",
      "/Library/Frameworks/Python.framework/Versions/3.6/lib/python3.6/site-packages/ipykernel_launcher.py:10: FutureWarning: reshape is deprecated and will raise in a subsequent release. Please use .values.reshape(...) instead\n",
      "  # Remove the CWD from sys.path while we load stuff.\n",
      "/Library/Frameworks/Python.framework/Versions/3.6/lib/python3.6/site-packages/ipykernel_launcher.py:12: FutureWarning: reshape is deprecated and will raise in a subsequent release. Please use .values.reshape(...) instead\n",
      "  if sys.path[0] == '':\n",
      "/Library/Frameworks/Python.framework/Versions/3.6/lib/python3.6/site-packages/ipykernel_launcher.py:13: FutureWarning: reshape is deprecated and will raise in a subsequent release. Please use .values.reshape(...) instead\n",
      "  del sys.path[0]\n"
     ]
    }
   ],
   "source": [
    "X = df['Year']\n",
    "Y = df['Mar']\n",
    "\n",
    "K = dftr['Year']\n",
    "N = dftr['Mar']\n",
    "# pd.Dataframe(Y,Z,k).mean()\n",
    "train_X = X[:102].reshape(-1,1)\n",
    "train_Y = Y[:102].reshape(-1,1)\n",
    "test_X = X[-14:].reshape(-1,1)\n",
    "test_Y = Y[-14:].reshape(-1,1)\n",
    "\n",
    "train_K = K[:102].reshape(-1,1)\n",
    "train_N = N[:102].reshape(-1,1)\n"
   ]
  },
  {
   "cell_type": "code",
   "execution_count": 26,
   "metadata": {
    "collapsed": true
   },
   "outputs": [],
   "source": [
    "reg = LinearRegression()"
   ]
  },
  {
   "cell_type": "code",
   "execution_count": 30,
   "metadata": {},
   "outputs": [
    {
     "name": "stderr",
     "output_type": "stream",
     "text": [
      "/Library/Frameworks/Python.framework/Versions/3.6/lib/python3.6/site-packages/sklearn/utils/validation.py:395: DeprecationWarning: Passing 1d arrays as data is deprecated in 0.17 and will raise ValueError in 0.19. Reshape your data either using X.reshape(-1, 1) if your data has a single feature or X.reshape(1, -1) if it contains a single sample.\n",
      "  DeprecationWarning)\n"
     ]
    }
   ],
   "source": [
    "df = pd.read_csv('data-cp.csv')\n",
    "autm = df[df.Season== 'Kharif']\n",
    "py = pd.DataFrame(autm.Crop_Year)\n",
    "reg.fit(train_X,train_Y)\n",
    "test_Y_pred = reg.predict(test_X)\n",
    "train_Y_pred = reg.predict(train_X)\n",
    "score_X=reg.score(train_X,train_Y)\n",
    "new_pred = np.array([[2018],[2019],[2020],[2021],[2022],[2023],[2024],[2024],[2024],[2025],[2026],[2027],[2028],[2029],[2030]])\n",
    "train_Y_pred = reg.predict(py)\n",
    "single_x = np.array([2019])\n",
    "single_y = reg.predict(single_x)"
   ]
  },
  {
   "cell_type": "code",
   "execution_count": 116,
   "metadata": {},
   "outputs": [
    {
     "name": "stderr",
     "output_type": "stream",
     "text": [
      "/Library/Frameworks/Python.framework/Versions/3.6/lib/python3.6/site-packages/pandas/indexes/api.py:71: RuntimeWarning: '<' not supported between instances of 'str' and 'int', sort order is undefined for incomparable objects\n",
      "  result = result.union(other)\n"
     ]
    },
    {
     "name": "stdout",
     "output_type": "stream",
     "text": [
      "<class 'pandas.core.frame.DataFrame'>\n"
     ]
    }
   ],
   "source": [
    "train_Y_pred = pd.DataFrame(train_Y_pred)\n",
    "print(type(train_Y_pred))\n",
    "frames = autm,train_Y_pred\n",
    "new_df = pd.concat(frames)\n",
    "rabi_temp = new_df.to_csv('kharif-temp.csv')"
   ]
  },
  {
   "cell_type": "code",
   "execution_count": 117,
   "metadata": {},
   "outputs": [
    {
     "name": "stdout",
     "output_type": "stream",
     "text": [
      "[[1989]\n",
      " [1990]\n",
      " [1991]\n",
      " [1992]\n",
      " [1993]\n",
      " [1994]\n",
      " [1995]\n",
      " [1996]\n",
      " [1997]\n",
      " [1998]\n",
      " [1999]\n",
      " [2000]\n",
      " [2001]\n",
      " [2002]]\n"
     ]
    }
   ],
   "source": [
    "print(test_X)"
   ]
  },
  {
   "cell_type": "code",
   "execution_count": 118,
   "metadata": {},
   "outputs": [
    {
     "name": "stdout",
     "output_type": "stream",
     "text": [
      "[[29.10119789]\n",
      " [29.11904971]\n",
      " [29.13690152]\n",
      " [29.15475333]\n",
      " [29.17260515]\n",
      " [29.19045696]\n",
      " [29.20830877]\n",
      " [29.22616059]\n",
      " [29.2440124 ]\n",
      " [29.26186421]\n",
      " [29.27971602]\n",
      " [29.29756784]\n",
      " [29.31541965]\n",
      " [29.33327146]]\n"
     ]
    }
   ],
   "source": [
    "print(test_Y_pred)"
   ]
  },
  {
   "cell_type": "code",
   "execution_count": 119,
   "metadata": {},
   "outputs": [
    {
     "name": "stdout",
     "output_type": "stream",
     "text": [
      "[[29.63675229]]\n"
     ]
    }
   ],
   "source": [
    "print(single_y)"
   ]
  },
  {
   "cell_type": "code",
   "execution_count": 120,
   "metadata": {},
   "outputs": [
    {
     "data": {
      "text/plain": [
       "29"
      ]
     },
     "execution_count": 120,
     "metadata": {},
     "output_type": "execute_result"
    }
   ],
   "source": [
    "int(single_y)"
   ]
  },
  {
   "cell_type": "code",
   "execution_count": 121,
   "metadata": {},
   "outputs": [
    {
     "data": {
      "text/html": [
       "<div>\n",
       "<table border=\"1\" class=\"dataframe\">\n",
       "  <thead>\n",
       "    <tr style=\"text-align: right;\">\n",
       "      <th></th>\n",
       "      <th>crop</th>\n",
       "      <th>temperature</th>\n",
       "      <th>rainfall</th>\n",
       "    </tr>\n",
       "  </thead>\n",
       "  <tbody>\n",
       "    <tr>\n",
       "      <th>0</th>\n",
       "      <td>rice</td>\n",
       "      <td>21.0</td>\n",
       "      <td>100- 150 cm</td>\n",
       "    </tr>\n",
       "    <tr>\n",
       "      <th>1</th>\n",
       "      <td>chillies</td>\n",
       "      <td>20.0</td>\n",
       "      <td>40-100cm</td>\n",
       "    </tr>\n",
       "    <tr>\n",
       "      <th>2</th>\n",
       "      <td>peanuts</td>\n",
       "      <td>25.0</td>\n",
       "      <td>50-75 cm</td>\n",
       "    </tr>\n",
       "    <tr>\n",
       "      <th>3</th>\n",
       "      <td>bajra</td>\n",
       "      <td>30.0</td>\n",
       "      <td>25-60 cm</td>\n",
       "    </tr>\n",
       "    <tr>\n",
       "      <th>4</th>\n",
       "      <td>banana</td>\n",
       "      <td>30.0</td>\n",
       "      <td>65-75</td>\n",
       "    </tr>\n",
       "    <tr>\n",
       "      <th>5</th>\n",
       "      <td>beans</td>\n",
       "      <td>21.0</td>\n",
       "      <td>35-50</td>\n",
       "    </tr>\n",
       "    <tr>\n",
       "      <th>6</th>\n",
       "      <td>lladys finger</td>\n",
       "      <td>28.5</td>\n",
       "      <td>50-100</td>\n",
       "    </tr>\n",
       "    <tr>\n",
       "      <th>7</th>\n",
       "      <td>bottle guard</td>\n",
       "      <td>25.5</td>\n",
       "      <td>any</td>\n",
       "    </tr>\n",
       "    <tr>\n",
       "      <th>8</th>\n",
       "      <td>brinnjal</td>\n",
       "      <td>26.0</td>\n",
       "      <td>60-100</td>\n",
       "    </tr>\n",
       "    <tr>\n",
       "      <th>9</th>\n",
       "      <td>cabbage</td>\n",
       "      <td>17.5</td>\n",
       "      <td>59-113</td>\n",
       "    </tr>\n",
       "    <tr>\n",
       "      <th>10</th>\n",
       "      <td>castor seed</td>\n",
       "      <td>18.0</td>\n",
       "      <td>50-60</td>\n",
       "    </tr>\n",
       "    <tr>\n",
       "      <th>11</th>\n",
       "      <td>citrus fruit</td>\n",
       "      <td>32.5</td>\n",
       "      <td>125-185</td>\n",
       "    </tr>\n",
       "    <tr>\n",
       "      <th>12</th>\n",
       "      <td>corriader</td>\n",
       "      <td>20.0</td>\n",
       "      <td>NaN</td>\n",
       "    </tr>\n",
       "    <tr>\n",
       "      <th>13</th>\n",
       "      <td>cotton</td>\n",
       "      <td>22.5</td>\n",
       "      <td>60-110 cm</td>\n",
       "    </tr>\n",
       "    <tr>\n",
       "      <th>14</th>\n",
       "      <td>cowpea</td>\n",
       "      <td>30.5</td>\n",
       "      <td>78</td>\n",
       "    </tr>\n",
       "    <tr>\n",
       "      <th>15</th>\n",
       "      <td>ginger</td>\n",
       "      <td>23.5</td>\n",
       "      <td>125-250</td>\n",
       "    </tr>\n",
       "    <tr>\n",
       "      <th>16</th>\n",
       "      <td>horse gram</td>\n",
       "      <td>27.0</td>\n",
       "      <td>50-70</td>\n",
       "    </tr>\n",
       "    <tr>\n",
       "      <th>17</th>\n",
       "      <td>jowar</td>\n",
       "      <td>28.5</td>\n",
       "      <td>40-50</td>\n",
       "    </tr>\n",
       "    <tr>\n",
       "      <th>18</th>\n",
       "      <td>millets</td>\n",
       "      <td>27.5</td>\n",
       "      <td>25-75 cm</td>\n",
       "    </tr>\n",
       "    <tr>\n",
       "      <th>19</th>\n",
       "      <td>maize</td>\n",
       "      <td>21.0</td>\n",
       "      <td>65-125 cm</td>\n",
       "    </tr>\n",
       "    <tr>\n",
       "      <th>20</th>\n",
       "      <td>massor</td>\n",
       "      <td>20.0</td>\n",
       "      <td>30-50</td>\n",
       "    </tr>\n",
       "    <tr>\n",
       "      <th>21</th>\n",
       "      <td>moong</td>\n",
       "      <td>22.0</td>\n",
       "      <td>85-100</td>\n",
       "    </tr>\n",
       "    <tr>\n",
       "      <th>22</th>\n",
       "      <td>onion</td>\n",
       "      <td>15.0</td>\n",
       "      <td>75-100</td>\n",
       "    </tr>\n",
       "    <tr>\n",
       "      <th>23</th>\n",
       "      <td>turmeric</td>\n",
       "      <td>25.0</td>\n",
       "      <td>150-250 cm</td>\n",
       "    </tr>\n",
       "    <tr>\n",
       "      <th>24</th>\n",
       "      <td>urad</td>\n",
       "      <td>30.0</td>\n",
       "      <td>60-75</td>\n",
       "    </tr>\n",
       "    <tr>\n",
       "      <th>25</th>\n",
       "      <td>wheat</td>\n",
       "      <td>19.0</td>\n",
       "      <td>25-75 cm</td>\n",
       "    </tr>\n",
       "    <tr>\n",
       "      <th>26</th>\n",
       "      <td>pulses</td>\n",
       "      <td>22.5</td>\n",
       "      <td>40-45 cm</td>\n",
       "    </tr>\n",
       "  </tbody>\n",
       "</table>\n",
       "</div>"
      ],
      "text/plain": [
       "             crop  temperature     rainfall\n",
       "0            rice         21.0  100- 150 cm\n",
       "1        chillies         20.0    40-100cm \n",
       "2         peanuts         25.0     50-75 cm\n",
       "3          bajra          30.0     25-60 cm\n",
       "4          banana         30.0        65-75\n",
       "5           beans         21.0        35-50\n",
       "6   lladys finger         28.5       50-100\n",
       "7    bottle guard         25.5          any\n",
       "8        brinnjal         26.0       60-100\n",
       "9         cabbage         17.5       59-113\n",
       "10    castor seed         18.0        50-60\n",
       "11   citrus fruit         32.5      125-185\n",
       "12      corriader         20.0          NaN\n",
       "13         cotton         22.5    60-110 cm\n",
       "14         cowpea         30.5           78\n",
       "15         ginger         23.5      125-250\n",
       "16     horse gram         27.0        50-70\n",
       "17          jowar         28.5        40-50\n",
       "18        millets         27.5     25-75 cm\n",
       "19          maize         21.0    65-125 cm\n",
       "20         massor         20.0        30-50\n",
       "21          moong         22.0       85-100\n",
       "22          onion         15.0       75-100\n",
       "23      turmeric          25.0   150-250 cm\n",
       "24          urad          30.0        60-75\n",
       "25          wheat         19.0     25-75 cm\n",
       "26         pulses         22.5     40-45 cm"
      ]
     },
     "execution_count": 121,
     "metadata": {},
     "output_type": "execute_result"
    }
   ],
   "source": [
    "dfc"
   ]
  },
  {
   "cell_type": "code",
   "execution_count": 122,
   "metadata": {},
   "outputs": [
    {
     "name": "stdout",
     "output_type": "stream",
     "text": [
      "['rice', 21.0, 'chillies', 20.0, 'peanuts', 25.0, 'bajra ', 30.0, 'banana', 30.0, 'beans', 21.0, 'lladys finger', 28.5, 'bottle guard', 25.5, 'brinnjal', 26.0, 'cabbage', 17.5, 'castor seed', 18.0, 'citrus fruit', 32.5, 'corriader', 20.0, 'cotton', 22.5, 'cowpea', 30.5, 'ginger', 23.5, 'horse gram', 27.0, 'jowar', 28.5, 'millets', 27.5, 'maize', 21.0, 'massor', 20.0, 'moong', 22.0, 'onion', 15.0, 'turmeric ', 25.0, 'urad ', 30.0, 'wheat', 19.0, 'pulses', 22.5]\n",
      "{'rice': 21.0, 'chillies': 20.0, 'peanuts': 25.0, 'bajra ': 30.0, 'banana': 30.0, 'beans': 21.0, 'lladys finger': 28.5, 'bottle guard': 25.5, 'brinnjal': 26.0, 'cabbage': 17.5, 'castor seed': 18.0, 'citrus fruit': 32.5, 'corriader': 20.0, 'cotton': 22.5, 'cowpea': 30.5, 'ginger': 23.5, 'horse gram': 27.0, 'jowar': 28.5, 'millets': 27.5, 'maize': 21.0, 'massor': 20.0, 'moong': 22.0, 'onion': 15.0, 'turmeric ': 25.0, 'urad ': 30.0, 'wheat': 19.0, 'pulses': 22.5}\n",
      "[8, 9, 4, -1, -1, 8, 0, 3, 3, 11, 11, -3, 9, 6, -1, 5, 2, 0, 1, 8, 9, 7, 14, 4, -1, 10, 6]\n",
      "[-3, -1, -1, -1, -1, 0, 0, 1, 2, 3, 3, 4, 4, 5, 6, 6, 7, 8, 8, 8, 9, 9, 9, 10, 11, 11, 14]\n",
      "[-1, -1, 0, 0, 1, 2, 3, 3, 4, 4, 5, 6, 6, 7, 8, 8, 8, 9, 9, 9, 10, 11, 11, 14]\n",
      "[-1, -1, 0]\n"
     ]
    }
   ],
   "source": [
    "vihar = []\n",
    "dict_n = {}\n",
    "list2 = []\n",
    "for i,j in zip(dfc['crop'],dfc['temperature']):\n",
    "    list2.append(i)\n",
    "    list2.append(j)\n",
    "print(list2)\n",
    "\n",
    "compare_dic = dict(zip(dfc['crop'],dfc['temperature']))\n",
    "\n",
    "print(compare_dic)\n",
    "\n",
    "\n",
    "for i in  dfc['temperature']:\n",
    "    diff = int(single_y) - i\n",
    "    vihar.append(int(diff))\n",
    "\n",
    "print(vihar)\n",
    "type(vihar)\n",
    "vihar.sort()\n",
    "print(vihar)\n",
    "\n",
    "for i in vihar:\n",
    "    if i<0:\n",
    "        vihar.remove(i)\n",
    "print(vihar)\n",
    "print(vihar[0:3])"
   ]
  },
  {
   "cell_type": "code",
   "execution_count": 123,
   "metadata": {},
   "outputs": [
    {
     "name": "stdout",
     "output_type": "stream",
     "text": [
      "<class 'dict'>\n",
      "{'rice': 21.0, 'chillies': 20.0, 'peanuts': 25.0, 'bajra ': 30.0, 'banana': 30.0, 'beans': 21.0, 'lladys finger': 28.5, 'bottle guard': 25.5, 'brinnjal': 26.0, 'cabbage': 17.5, 'castor seed': 18.0, 'citrus fruit': 32.5, 'corriader': 20.0, 'cotton': 22.5, 'cowpea': 30.5, 'ginger': 23.5, 'horse gram': 27.0, 'jowar': 28.5, 'millets': 27.5, 'maize': 21.0, 'massor': 20.0, 'moong': 22.0, 'onion': 15.0, 'turmeric ': 25.0, 'urad ': 30.0, 'wheat': 19.0, 'pulses': 22.5}\n",
      "######\n",
      "{'rice': 8.0, 'chillies': 9.0, 'peanuts': 4.0, 'bajra ': 1.0, 'banana': 1.0, 'beans': 8.0, 'lladys finger': 0.5, 'bottle guard': 3.5, 'brinnjal': 3.0, 'cabbage': 11.5, 'castor seed': 11.0, 'citrus fruit': 3.5, 'corriader': 9.0, 'cotton': 6.5, 'cowpea': 1.5, 'ginger': 5.5, 'horse gram': 2.0, 'jowar': 0.5, 'millets': 1.5, 'maize': 8.0, 'massor': 9.0, 'moong': 7.0, 'onion': 14.0, 'turmeric ': 4.0, 'urad ': 1.0, 'wheat': 10.0, 'pulses': 6.5}\n"
     ]
    }
   ],
   "source": [
    "print(type(compare_dic))\n",
    "print(compare_dic)\n",
    "for i in compare_dic:\n",
    "    compare_dic[i] = abs(int(single_y) - compare_dic[i])\n",
    "print(\"######\")\n",
    "\n",
    "    \n",
    "a = compare_dic\n",
    "print(a)"
   ]
  },
  {
   "cell_type": "code",
   "execution_count": 124,
   "metadata": {},
   "outputs": [
    {
     "name": "stdout",
     "output_type": "stream",
     "text": [
      "<class 'dict'>\n",
      "[('lladys finger', 0.5), ('jowar', 0.5), ('bajra ', 1.0), ('banana', 1.0), ('urad ', 1.0), ('cowpea', 1.5), ('millets', 1.5), ('horse gram', 2.0), ('brinnjal', 3.0), ('bottle guard', 3.5), ('citrus fruit', 3.5), ('peanuts', 4.0), ('turmeric ', 4.0), ('ginger', 5.5), ('cotton', 6.5), ('pulses', 6.5), ('moong', 7.0), ('rice', 8.0), ('beans', 8.0), ('maize', 8.0), ('chillies', 9.0), ('corriader', 9.0), ('massor', 9.0), ('wheat', 10.0), ('castor seed', 11.0), ('cabbage', 11.5), ('onion', 14.0)]\n"
     ]
    }
   ],
   "source": [
    "print(type(a))\n",
    "k=len(a)\n",
    "import operator\n",
    "\n",
    "sorted_x = sorted(a.items(), key=operator.itemgetter(1))\n",
    "for i in sorted_x:\n",
    "    if i[1]<0:\n",
    "        sorted_x.remove(i)\n",
    "print(sorted_x)"
   ]
  },
  {
   "cell_type": "code",
   "execution_count": 125,
   "metadata": {},
   "outputs": [
    {
     "data": {
      "text/plain": [
       "[('lladys finger', 0.5), ('jowar', 0.5), ('bajra ', 1.0)]"
      ]
     },
     "execution_count": 125,
     "metadata": {},
     "output_type": "execute_result"
    }
   ],
   "source": [
    "sorted_x[:3]"
   ]
  },
  {
   "cell_type": "code",
   "execution_count": 134,
   "metadata": {},
   "outputs": [
    {
     "name": "stdout",
     "output_type": "stream",
     "text": [
      "2019\n",
      "2020\n",
      "2021\n",
      "2022\n",
      "2023\n",
      "[2019 2020 2021 2022 2023]\n"
     ]
    },
    {
     "data": {
      "text/plain": [
       "array([[2019],\n",
       "       [2020],\n",
       "       [2021],\n",
       "       [2022],\n",
       "       [2023]])"
      ]
     },
     "execution_count": 134,
     "metadata": {},
     "output_type": "execute_result"
    }
   ],
   "source": [
    "year = 2019\n",
    "hel = []\n",
    "for i in range(year, year+5):\n",
    "    print(i)\n",
    "    hel.append(int(i))\n",
    "arr = np.array(hel)\n",
    "print(arr)\n",
    "arr.reshape(-1,1)"
   ]
  },
  {
   "cell_type": "code",
   "execution_count": 31,
   "metadata": {},
   "outputs": [
    {
     "data": {
      "text/plain": [
       "LinearRegression(copy_X=True, fit_intercept=True, n_jobs=1, normalize=False)"
      ]
     },
     "execution_count": 31,
     "metadata": {},
     "output_type": "execute_result"
    }
   ],
   "source": [
    "reg.fit(train_N,train_K)"
   ]
  },
  {
   "cell_type": "code",
   "execution_count": 32,
   "metadata": {},
   "outputs": [
    {
     "name": "stderr",
     "output_type": "stream",
     "text": [
      "/Library/Frameworks/Python.framework/Versions/3.6/lib/python3.6/site-packages/sklearn/utils/validation.py:395: DeprecationWarning: Passing 1d arrays as data is deprecated in 0.17 and will raise ValueError in 0.19. Reshape your data either using X.reshape(-1, 1) if your data has a single feature or X.reshape(1, -1) if it contains a single sample.\n",
      "  DeprecationWarning)\n"
     ]
    }
   ],
   "source": [
    "y = reg.predict([2020])"
   ]
  },
  {
   "cell_type": "code",
   "execution_count": 33,
   "metadata": {},
   "outputs": [
    {
     "data": {
      "text/plain": [
       "array([[-9047.35919071]])"
      ]
     },
     "execution_count": 33,
     "metadata": {},
     "output_type": "execute_result"
    }
   ],
   "source": [
    "y"
   ]
  },
  {
   "cell_type": "code",
   "execution_count": null,
   "metadata": {
    "collapsed": true
   },
   "outputs": [],
   "source": []
  }
 ],
 "metadata": {
  "kernelspec": {
   "display_name": "Python 3",
   "language": "python",
   "name": "python3"
  },
  "language_info": {
   "codemirror_mode": {
    "name": "ipython",
    "version": 3
   },
   "file_extension": ".py",
   "mimetype": "text/x-python",
   "name": "python",
   "nbconvert_exporter": "python",
   "pygments_lexer": "ipython3",
   "version": "3.6.2"
  }
 },
 "nbformat": 4,
 "nbformat_minor": 2
}
